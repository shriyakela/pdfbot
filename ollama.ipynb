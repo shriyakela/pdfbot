{
 "cells": [
  {
   "cell_type": "code",
   "execution_count": 2,
   "metadata": {},
   "outputs": [],
   "source": [
    "from langchain_community.llms import Ollama"
   ]
  },
  {
   "cell_type": "code",
   "execution_count": null,
   "metadata": {},
   "outputs": [],
   "source": []
  },
  {
   "cell_type": "code",
   "execution_count": 3,
   "metadata": {},
   "outputs": [],
   "source": [
    "llm = Ollama(model=\"gemma:2b\")"
   ]
  },
  {
   "cell_type": "code",
   "execution_count": 4,
   "metadata": {},
   "outputs": [
    {
     "data": {
      "text/plain": [
       "\"**Artificial Intelligence (AI)** is a branch of computer science that encompasses the development of computer systems capable of performing tasks that typically require human intelligence, such as learning, problem-solving, and decision-making.\\n\\n**Key Concepts of AI:**\\n\\n* **Machine Learning:** Algorithms that allow computers to learn from data without explicit programming.\\n* **Deep Learning:** A subset of machine learning that uses artificial neural networks with multiple layers.\\n* **Natural Language Processing (NLP):** Enables computers to understand and generate human language.\\n* **Computer Vision:** Allows computers to perceive and interpret visual information.\\n* **Robotics:** The integration of AI into robots and autonomous systems.\\n\\n**Applications of AI:**\\n\\n* **Personal Assistants:** Chatbots, voice assistants (e.g., Siri, Alexa)\\n* **Healthcare:** Disease diagnosis, drug discovery, personalized treatment\\n* **Finance:** Fraud detection, risk management, market prediction\\n* **Manufacturing:** Predictive maintenance, quality control, supply chain optimization\\n* **Transportation:** Self-driving cars, traffic optimization\\n\\n**Benefits of AI:**\\n\\n* **Increased efficiency and productivity:** Automating tasks and processes\\n* **Improved decision-making:** Analysing vast amounts of data to identify patterns and trends\\n* **Personalized experiences:** Tailoring products and services to individual preferences\\n* **Enhanced customer service:** Providing instant and personalized support\\n\\n**Challenges of AI:**\\n\\n* **Job displacement:** Automation of certain jobs by AI\\n* **Bias and fairness:** Algorithms can inherit biases from the data they are trained on\\n* **Ethical considerations:** AI's decision-making process can be complex and difficult to understand\\n\\n**Future of AI:**\\n\\n* Continued advancements in machine learning algorithms\\n* Increased integration of AI into everyday life\\n* Development of new AI applications in various fields\\n* The rise of AI may have significant economic and societal impacts\""
      ]
     },
     "execution_count": 4,
     "metadata": {},
     "output_type": "execute_result"
    }
   ],
   "source": [
    "llm.invoke(\"what is AI\")"
   ]
  },
  {
   "cell_type": "code",
   "execution_count": 5,
   "metadata": {},
   "outputs": [
    {
     "name": "stdout",
     "output_type": "stream",
     "text": [
      "The capital of India is New Delhi. It is a major political and economic center in the country. New Delhi is also the center of the Indian government, and is the seat of all major legislative and executive ministries of the country.\n"
     ]
    }
   ],
   "source": [
    "HELLO=llm.invoke(\"what is THE CAPITAL OF INDIA\")\n",
    "print(HELLO)"
   ]
  },
  {
   "cell_type": "code",
   "execution_count": 6,
   "metadata": {},
   "outputs": [
    {
     "data": {
      "text/plain": [
       "\"Sure! Here are some good children's names:\\n\\n**Boy Names:**\\n\\n* Asher\\n* Carter\\n* Connor\\n* Daniel\\n* Elijah\\n* Finn\\n* Grayson\\n* Henry\\n* Jacob\\n* Joshua\\n* Liam\\n* Maddox\\n* Mason\\n* Nathaniel\\n* Oliver\\n* Owen\\n* Peyton\\n* Quinn\\n* Samuel\\n* Silas\\n* Spencer\\n* Tristan\\n\\n**Girl Names:**\\n\\n* Addison\\n* Amelia\\n* Aurora\\n* Aviana\\n* Avery\\n* Brooke\\n* Calliope\\n* Charlotte\\n* Coral\\n* Daisy\\n* Eleanor\\n* Faith\\n* Hazel\\n* Imani\\n* Jane\\n* Josephine\\n* Kaylee\\n* Lily\\n* Lucy\\n* Mabel\\n* Maisie\\n* Maria\\n* Matilda\\n* Morgan\\n* Natalie\\n* Olivia\\n* Rose\\n* Ruby\\n* Savannah\\n* Sophia\\n* Stella\\n* Sydney\\n* Vivian\\n* Wren\\n\\n**Unisex Names:**\\n\\n* Aiden\\n* Archer\\n* Atlas\\n* Carter\\n* Harper\\n* Leo\\n* Quinn\\n* Rowan\\n* Ryder\\n* Scout\\n* Theodore\\n* Tristan\\n\\nThese are just a few ideas to get you started. Remember to choose a name that you love and that your child will enjoy using.\""
      ]
     },
     "execution_count": 6,
     "metadata": {},
     "output_type": "execute_result"
    }
   ],
   "source": [
    "llm.invoke(\"tell me good children names\")"
   ]
  }
 ],
 "metadata": {
  "kernelspec": {
   "display_name": "env",
   "language": "python",
   "name": "python3"
  },
  "language_info": {
   "codemirror_mode": {
    "name": "ipython",
    "version": 3
   },
   "file_extension": ".py",
   "mimetype": "text/x-python",
   "name": "python",
   "nbconvert_exporter": "python",
   "pygments_lexer": "ipython3",
   "version": "3.12.4"
  }
 },
 "nbformat": 4,
 "nbformat_minor": 2
}
